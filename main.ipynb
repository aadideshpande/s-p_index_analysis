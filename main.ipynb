{
 "cells": [
  {
   "cell_type": "code",
   "execution_count": 19,
   "metadata": {},
   "outputs": [],
   "source": [
    "import requests\n",
    "import numpy as np\n",
    "import pandas as pd\n",
    "import seaborn as sns\n",
    "import matplotlib.pyplot as plt\n",
    "import yfinance as yf\n",
    "from bs4 import BeautifulSoup"
   ]
  },
  {
   "cell_type": "markdown",
   "metadata": {},
   "source": [
    "#### Pull Historical S&P 500 Index data for 2023"
   ]
  },
  {
   "cell_type": "code",
   "execution_count": 20,
   "metadata": {},
   "outputs": [],
   "source": [
    "dat = yf.Ticker('^GSPC')\n",
    "df = dat.history(start=\"2023-01-01\", end=\"2023-12-31\")"
   ]
  },
  {
   "cell_type": "code",
   "execution_count": 21,
   "metadata": {},
   "outputs": [
    {
     "data": {
      "text/html": [
       "<div>\n",
       "<style scoped>\n",
       "    .dataframe tbody tr th:only-of-type {\n",
       "        vertical-align: middle;\n",
       "    }\n",
       "\n",
       "    .dataframe tbody tr th {\n",
       "        vertical-align: top;\n",
       "    }\n",
       "\n",
       "    .dataframe thead th {\n",
       "        text-align: right;\n",
       "    }\n",
       "</style>\n",
       "<table border=\"1\" class=\"dataframe\">\n",
       "  <thead>\n",
       "    <tr style=\"text-align: right;\">\n",
       "      <th></th>\n",
       "      <th>Open</th>\n",
       "      <th>High</th>\n",
       "      <th>Low</th>\n",
       "      <th>Close</th>\n",
       "      <th>Volume</th>\n",
       "      <th>Dividends</th>\n",
       "      <th>Stock Splits</th>\n",
       "    </tr>\n",
       "    <tr>\n",
       "      <th>Date</th>\n",
       "      <th></th>\n",
       "      <th></th>\n",
       "      <th></th>\n",
       "      <th></th>\n",
       "      <th></th>\n",
       "      <th></th>\n",
       "      <th></th>\n",
       "    </tr>\n",
       "  </thead>\n",
       "  <tbody>\n",
       "    <tr>\n",
       "      <th>2023-01-03 00:00:00-05:00</th>\n",
       "      <td>3853.290039</td>\n",
       "      <td>3878.459961</td>\n",
       "      <td>3794.330078</td>\n",
       "      <td>3824.139893</td>\n",
       "      <td>3959140000</td>\n",
       "      <td>0.0</td>\n",
       "      <td>0.0</td>\n",
       "    </tr>\n",
       "    <tr>\n",
       "      <th>2023-01-04 00:00:00-05:00</th>\n",
       "      <td>3840.360107</td>\n",
       "      <td>3873.159912</td>\n",
       "      <td>3815.770020</td>\n",
       "      <td>3852.969971</td>\n",
       "      <td>4414080000</td>\n",
       "      <td>0.0</td>\n",
       "      <td>0.0</td>\n",
       "    </tr>\n",
       "    <tr>\n",
       "      <th>2023-01-05 00:00:00-05:00</th>\n",
       "      <td>3839.739990</td>\n",
       "      <td>3839.739990</td>\n",
       "      <td>3802.419922</td>\n",
       "      <td>3808.100098</td>\n",
       "      <td>3893450000</td>\n",
       "      <td>0.0</td>\n",
       "      <td>0.0</td>\n",
       "    </tr>\n",
       "    <tr>\n",
       "      <th>2023-01-06 00:00:00-05:00</th>\n",
       "      <td>3823.370117</td>\n",
       "      <td>3906.189941</td>\n",
       "      <td>3809.560059</td>\n",
       "      <td>3895.080078</td>\n",
       "      <td>3923560000</td>\n",
       "      <td>0.0</td>\n",
       "      <td>0.0</td>\n",
       "    </tr>\n",
       "    <tr>\n",
       "      <th>2023-01-09 00:00:00-05:00</th>\n",
       "      <td>3910.820068</td>\n",
       "      <td>3950.570068</td>\n",
       "      <td>3890.419922</td>\n",
       "      <td>3892.090088</td>\n",
       "      <td>4311770000</td>\n",
       "      <td>0.0</td>\n",
       "      <td>0.0</td>\n",
       "    </tr>\n",
       "  </tbody>\n",
       "</table>\n",
       "</div>"
      ],
      "text/plain": [
       "                                  Open         High          Low        Close  \\\n",
       "Date                                                                            \n",
       "2023-01-03 00:00:00-05:00  3853.290039  3878.459961  3794.330078  3824.139893   \n",
       "2023-01-04 00:00:00-05:00  3840.360107  3873.159912  3815.770020  3852.969971   \n",
       "2023-01-05 00:00:00-05:00  3839.739990  3839.739990  3802.419922  3808.100098   \n",
       "2023-01-06 00:00:00-05:00  3823.370117  3906.189941  3809.560059  3895.080078   \n",
       "2023-01-09 00:00:00-05:00  3910.820068  3950.570068  3890.419922  3892.090088   \n",
       "\n",
       "                               Volume  Dividends  Stock Splits  \n",
       "Date                                                            \n",
       "2023-01-03 00:00:00-05:00  3959140000        0.0           0.0  \n",
       "2023-01-04 00:00:00-05:00  4414080000        0.0           0.0  \n",
       "2023-01-05 00:00:00-05:00  3893450000        0.0           0.0  \n",
       "2023-01-06 00:00:00-05:00  3923560000        0.0           0.0  \n",
       "2023-01-09 00:00:00-05:00  4311770000        0.0           0.0  "
      ]
     },
     "execution_count": 21,
     "metadata": {},
     "output_type": "execute_result"
    }
   ],
   "source": [
    "df.head()"
   ]
  },
  {
   "cell_type": "code",
   "execution_count": 22,
   "metadata": {},
   "outputs": [
    {
     "data": {
      "text/plain": [
       "(Open            float64\n",
       " High            float64\n",
       " Low             float64\n",
       " Close           float64\n",
       " Volume            int64\n",
       " Dividends       float64\n",
       " Stock Splits    float64\n",
       " dtype: object,\n",
       " (250, 7))"
      ]
     },
     "execution_count": 22,
     "metadata": {},
     "output_type": "execute_result"
    }
   ],
   "source": [
    "df.dtypes, df.shape"
   ]
  },
  {
   "cell_type": "code",
   "execution_count": 23,
   "metadata": {},
   "outputs": [
    {
     "data": {
      "text/plain": [
       "(array([0.]), array([0.]))"
      ]
     },
     "execution_count": 23,
     "metadata": {},
     "output_type": "execute_result"
    }
   ],
   "source": [
    "df['Dividends'].unique(), df['Stock Splits'].unique()"
   ]
  },
  {
   "cell_type": "code",
   "execution_count": 24,
   "metadata": {},
   "outputs": [],
   "source": [
    "df = df[['Close', 'Volume']]"
   ]
  },
  {
   "cell_type": "code",
   "execution_count": 25,
   "metadata": {},
   "outputs": [
    {
     "data": {
      "text/html": [
       "<div>\n",
       "<style scoped>\n",
       "    .dataframe tbody tr th:only-of-type {\n",
       "        vertical-align: middle;\n",
       "    }\n",
       "\n",
       "    .dataframe tbody tr th {\n",
       "        vertical-align: top;\n",
       "    }\n",
       "\n",
       "    .dataframe thead th {\n",
       "        text-align: right;\n",
       "    }\n",
       "</style>\n",
       "<table border=\"1\" class=\"dataframe\">\n",
       "  <thead>\n",
       "    <tr style=\"text-align: right;\">\n",
       "      <th></th>\n",
       "      <th>Close</th>\n",
       "      <th>Volume</th>\n",
       "    </tr>\n",
       "    <tr>\n",
       "      <th>Date</th>\n",
       "      <th></th>\n",
       "      <th></th>\n",
       "    </tr>\n",
       "  </thead>\n",
       "  <tbody>\n",
       "    <tr>\n",
       "      <th>2023-01-03 00:00:00-05:00</th>\n",
       "      <td>3824.139893</td>\n",
       "      <td>3959140000</td>\n",
       "    </tr>\n",
       "    <tr>\n",
       "      <th>2023-01-04 00:00:00-05:00</th>\n",
       "      <td>3852.969971</td>\n",
       "      <td>4414080000</td>\n",
       "    </tr>\n",
       "    <tr>\n",
       "      <th>2023-01-05 00:00:00-05:00</th>\n",
       "      <td>3808.100098</td>\n",
       "      <td>3893450000</td>\n",
       "    </tr>\n",
       "    <tr>\n",
       "      <th>2023-01-06 00:00:00-05:00</th>\n",
       "      <td>3895.080078</td>\n",
       "      <td>3923560000</td>\n",
       "    </tr>\n",
       "    <tr>\n",
       "      <th>2023-01-09 00:00:00-05:00</th>\n",
       "      <td>3892.090088</td>\n",
       "      <td>4311770000</td>\n",
       "    </tr>\n",
       "  </tbody>\n",
       "</table>\n",
       "</div>"
      ],
      "text/plain": [
       "                                 Close      Volume\n",
       "Date                                              \n",
       "2023-01-03 00:00:00-05:00  3824.139893  3959140000\n",
       "2023-01-04 00:00:00-05:00  3852.969971  4414080000\n",
       "2023-01-05 00:00:00-05:00  3808.100098  3893450000\n",
       "2023-01-06 00:00:00-05:00  3895.080078  3923560000\n",
       "2023-01-09 00:00:00-05:00  3892.090088  4311770000"
      ]
     },
     "execution_count": 25,
     "metadata": {},
     "output_type": "execute_result"
    }
   ],
   "source": [
    "df.head()"
   ]
  },
  {
   "cell_type": "markdown",
   "metadata": {},
   "source": [
    "#### Plot the daily Close and Volume"
   ]
  },
  {
   "cell_type": "code",
   "execution_count": 26,
   "metadata": {},
   "outputs": [
    {
     "data": {
      "image/png": "[encoded data removed]",
      "text/plain": [
       "<Figure size 1200x500 with 2 Axes>"
      ]
     },
     "metadata": {},
     "output_type": "display_data"
    }
   ],
   "source": [
    "fig, axes = plt.subplots(1, 2, figsize=(12, 5)) \n",
    "sns.lineplot(data=df['Close'], ax=axes[0])\n",
    "axes[0].set_title('S&P 500 index daily close')\n",
    "sns.lineplot(data=df['Volume'], ax=axes[1])\n",
    "axes[1].set_title('S&P 500 index daily volume')\n",
    "plt.tight_layout()\n",
    "plt.show()"
   ]
  },
  {
   "cell_type": "code",
   "execution_count": 27,
   "metadata": {},
   "outputs": [],
   "source": [
    "df['Return'] = df['Close'].apply(lambda x: (x - df.iloc[0]['Close']) / x * 100)"
   ]
  },
  {
   "cell_type": "markdown",
   "metadata": {},
   "source": [
    "#### Plot the cumulative daily return"
   ]
  },
  {
   "cell_type": "code",
   "execution_count": 28,
   "metadata": {},
   "outputs": [
    {
     "data": {
      "text/plain": [
       "<Axes: xlabel='Date', ylabel='Return'>"
      ]
     },
     "execution_count": 28,
     "metadata": {},
     "output_type": "execute_result"
    },
    {
     "data": {
      "image/png": "[encoded data removed]",
      "text/plain": [
       "<Figure size 640x480 with 1 Axes>"
      ]
     },
     "metadata": {},
     "output_type": "display_data"
    }
   ],
   "source": [
    "sns.lineplot(data=df['Return'])"
   ]
  },
  {
   "cell_type": "code",
   "execution_count": 29,
   "metadata": {},
   "outputs": [
    {
     "name": "stdout",
     "output_type": "stream",
     "text": [
      "19.826496333358314 % return\n"
     ]
    }
   ],
   "source": [
    "print(f'{df.iloc[-1]['Return']} % return')"
   ]
  },
  {
   "cell_type": "markdown",
   "metadata": {},
   "source": [
    "##### For the year 2023, the S&P returned an approx of 19.8%."
   ]
  },
  {
   "cell_type": "markdown",
   "metadata": {},
   "source": [
    "#### Web Scrape the list of S&P 500 companies for 2023 (we assume that this list of companies is static)"
   ]
  },
  {
   "cell_type": "code",
   "execution_count": 30,
   "metadata": {},
   "outputs": [],
   "source": [
    "url = \"https://en.wikipedia.org/w/index.php?title=List_of_S%26P_500_companies&oldid=1192789360\"\n",
    "response = requests.get(url)\n",
    "soup = BeautifulSoup(response.text, \"html.parser\")\n",
    "table = soup.find(\"table\", {\"class\": \"wikitable sortable\"})\n",
    "headers = [header.text.strip() for header in table.find(\"tr\").find_all(\"th\")]\n",
    "rows = table.find_all(\"tr\")[1:]\n",
    "\n",
    "data = []\n",
    "for row in rows:\n",
    "    cols = row.find_all(\"td\")\n",
    "    cols = [col.text.strip() for col in cols]\n",
    "    if cols:\n",
    "        data.append(cols)\n",
    "sp500_df = pd.DataFrame(data, columns=headers)"
   ]
  },
  {
   "cell_type": "code",
   "execution_count": 31,
   "metadata": {},
   "outputs": [
    {
     "data": {
      "text/html": [
       "<div>\n",
       "<style scoped>\n",
       "    .dataframe tbody tr th:only-of-type {\n",
       "        vertical-align: middle;\n",
       "    }\n",
       "\n",
       "    .dataframe tbody tr th {\n",
       "        vertical-align: top;\n",
       "    }\n",
       "\n",
       "    .dataframe thead th {\n",
       "        text-align: right;\n",
       "    }\n",
       "</style>\n",
       "<table border=\"1\" class=\"dataframe\">\n",
       "  <thead>\n",
       "    <tr style=\"text-align: right;\">\n",
       "      <th></th>\n",
       "      <th>Symbol</th>\n",
       "      <th>Security</th>\n",
       "      <th>GICS Sector</th>\n",
       "      <th>GICS Sub-Industry</th>\n",
       "      <th>Headquarters Location</th>\n",
       "      <th>Date added</th>\n",
       "      <th>CIK</th>\n",
       "      <th>Founded</th>\n",
       "    </tr>\n",
       "  </thead>\n",
       "  <tbody>\n",
       "    <tr>\n",
       "      <th>0</th>\n",
       "      <td>MMM</td>\n",
       "      <td>3M</td>\n",
       "      <td>Industrials</td>\n",
       "      <td>Industrial Conglomerates</td>\n",
       "      <td>Saint Paul, Minnesota</td>\n",
       "      <td>1957-03-04</td>\n",
       "      <td>0000066740</td>\n",
       "      <td>1902</td>\n",
       "    </tr>\n",
       "    <tr>\n",
       "      <th>1</th>\n",
       "      <td>AOS</td>\n",
       "      <td>A. O. Smith</td>\n",
       "      <td>Industrials</td>\n",
       "      <td>Building Products</td>\n",
       "      <td>Milwaukee, Wisconsin</td>\n",
       "      <td>2017-07-26</td>\n",
       "      <td>0000091142</td>\n",
       "      <td>1916</td>\n",
       "    </tr>\n",
       "    <tr>\n",
       "      <th>2</th>\n",
       "      <td>ABT</td>\n",
       "      <td>Abbott</td>\n",
       "      <td>Health Care</td>\n",
       "      <td>Health Care Equipment</td>\n",
       "      <td>North Chicago, Illinois</td>\n",
       "      <td>1957-03-04</td>\n",
       "      <td>0000001800</td>\n",
       "      <td>1888</td>\n",
       "    </tr>\n",
       "    <tr>\n",
       "      <th>3</th>\n",
       "      <td>ABBV</td>\n",
       "      <td>AbbVie</td>\n",
       "      <td>Health Care</td>\n",
       "      <td>Biotechnology</td>\n",
       "      <td>North Chicago, Illinois</td>\n",
       "      <td>2012-12-31</td>\n",
       "      <td>0001551152</td>\n",
       "      <td>2013 (1888)</td>\n",
       "    </tr>\n",
       "    <tr>\n",
       "      <th>4</th>\n",
       "      <td>ACN</td>\n",
       "      <td>Accenture</td>\n",
       "      <td>Information Technology</td>\n",
       "      <td>IT Consulting &amp; Other Services</td>\n",
       "      <td>Dublin, Ireland</td>\n",
       "      <td>2011-07-06</td>\n",
       "      <td>0001467373</td>\n",
       "      <td>1989</td>\n",
       "    </tr>\n",
       "  </tbody>\n",
       "</table>\n",
       "</div>"
      ],
      "text/plain": [
       "  Symbol     Security             GICS Sector               GICS Sub-Industry  \\\n",
       "0    MMM           3M             Industrials        Industrial Conglomerates   \n",
       "1    AOS  A. O. Smith             Industrials               Building Products   \n",
       "2    ABT       Abbott             Health Care           Health Care Equipment   \n",
       "3   ABBV       AbbVie             Health Care                   Biotechnology   \n",
       "4    ACN    Accenture  Information Technology  IT Consulting & Other Services   \n",
       "\n",
       "     Headquarters Location  Date added         CIK      Founded  \n",
       "0    Saint Paul, Minnesota  1957-03-04  0000066740         1902  \n",
       "1     Milwaukee, Wisconsin  2017-07-26  0000091142         1916  \n",
       "2  North Chicago, Illinois  1957-03-04  0000001800         1888  \n",
       "3  North Chicago, Illinois  2012-12-31  0001551152  2013 (1888)  \n",
       "4          Dublin, Ireland  2011-07-06  0001467373         1989  "
      ]
     },
     "execution_count": 31,
     "metadata": {},
     "output_type": "execute_result"
    }
   ],
   "source": [
    "sp500_df.head()"
   ]
  },
  {
   "cell_type": "code",
   "execution_count": 32,
   "metadata": {},
   "outputs": [
    {
     "data": {
      "text/plain": [
       "(503, 8)"
      ]
     },
     "execution_count": 32,
     "metadata": {},
     "output_type": "execute_result"
    }
   ],
   "source": [
    "sp500_df.shape"
   ]
  },
  {
   "cell_type": "code",
   "execution_count": 33,
   "metadata": {},
   "outputs": [],
   "source": [
    "sp500_df = sp500_df[['Symbol', 'Security', 'GICS Sector', 'GICS Sub-Industry']]"
   ]
  },
  {
   "cell_type": "code",
   "execution_count": 34,
   "metadata": {},
   "outputs": [],
   "source": [
    "tickers = sp500_df['Symbol'].to_list()"
   ]
  },
  {
   "cell_type": "markdown",
   "metadata": {},
   "source": [
    "#### Pull the daily prices for each of the companies in the S&P 500 index"
   ]
  },
  {
   "cell_type": "code",
   "execution_count": 35,
   "metadata": {},
   "outputs": [
    {
     "name": "stderr",
     "output_type": "stream",
     "text": [
      "$BRK.B: possibly delisted; no timezone found\n",
      "$BF.B: possibly delisted; no price data found  (1d 2023-01-01 -> 2023-12-31)\n",
      "$CTLT: possibly delisted; no timezone found\n",
      "$CDAY: possibly delisted; no timezone found\n",
      "$FLT: possibly delisted; no timezone found\n",
      "$PEAK: possibly delisted; no timezone found\n",
      "$MRO: possibly delisted; no timezone found\n",
      "$PXD: possibly delisted; no timezone found\n",
      "$WRK: possibly delisted; no timezone found\n"
     ]
    }
   ],
   "source": [
    "df = pd.DataFrame({})\n",
    "for ticker in tickers:\n",
    "    dat = yf.Ticker(ticker)\n",
    "    dt = dat.history(start=\"2023-01-01\", end=\"2023-12-31\")\n",
    "    if (len(dt) < 2):\n",
    "        continue\n",
    "    ret = (dt.iloc[-1]['Close'] - dt.iloc[0]['Close']) / dt.iloc[0]['Close'] * 100\n",
    "    df_temp = pd.DataFrame({\n",
    "        'Symbol':ticker, \n",
    "        'Return': ret, \n",
    "        'Volume_2023_Start': dt.iloc[0]['Volume'],\n",
    "        'Price_2023_Start': dt.iloc[0]['Close']\n",
    "        }, index=[0])\n",
    "    df = pd.concat([df, df_temp], ignore_index=True)\n"
   ]
  },
  {
   "cell_type": "code",
   "execution_count": 36,
   "metadata": {},
   "outputs": [
    {
     "data": {
      "text/html": [
       "<div>\n",
       "<style scoped>\n",
       "    .dataframe tbody tr th:only-of-type {\n",
       "        vertical-align: middle;\n",
       "    }\n",
       "\n",
       "    .dataframe tbody tr th {\n",
       "        vertical-align: top;\n",
       "    }\n",
       "\n",
       "    .dataframe thead th {\n",
       "        text-align: right;\n",
       "    }\n",
       "</style>\n",
       "<table border=\"1\" class=\"dataframe\">\n",
       "  <thead>\n",
       "    <tr style=\"text-align: right;\">\n",
       "      <th></th>\n",
       "      <th>Symbol</th>\n",
       "      <th>Return</th>\n",
       "      <th>Volume_2023_Start</th>\n",
       "      <th>Price_2023_Start</th>\n",
       "    </tr>\n",
       "  </thead>\n",
       "  <tbody>\n",
       "    <tr>\n",
       "      <th>0</th>\n",
       "      <td>MMM</td>\n",
       "      <td>-5.340932</td>\n",
       "      <td>3124909.0</td>\n",
       "      <td>92.868958</td>\n",
       "    </tr>\n",
       "    <tr>\n",
       "      <th>1</th>\n",
       "      <td>AOS</td>\n",
       "      <td>42.495103</td>\n",
       "      <td>1366200.0</td>\n",
       "      <td>56.647530</td>\n",
       "    </tr>\n",
       "    <tr>\n",
       "      <th>2</th>\n",
       "      <td>ABT</td>\n",
       "      <td>2.456596</td>\n",
       "      <td>4171900.0</td>\n",
       "      <td>104.779053</td>\n",
       "    </tr>\n",
       "    <tr>\n",
       "      <th>3</th>\n",
       "      <td>ABBV</td>\n",
       "      <td>-0.707935</td>\n",
       "      <td>4937500.0</td>\n",
       "      <td>149.164124</td>\n",
       "    </tr>\n",
       "    <tr>\n",
       "      <th>4</th>\n",
       "      <td>ACN</td>\n",
       "      <td>31.904533</td>\n",
       "      <td>2250100.0</td>\n",
       "      <td>261.824371</td>\n",
       "    </tr>\n",
       "  </tbody>\n",
       "</table>\n",
       "</div>"
      ],
      "text/plain": [
       "  Symbol     Return  Volume_2023_Start  Price_2023_Start\n",
       "0    MMM  -5.340932          3124909.0         92.868958\n",
       "1    AOS  42.495103          1366200.0         56.647530\n",
       "2    ABT   2.456596          4171900.0        104.779053\n",
       "3   ABBV  -0.707935          4937500.0        149.164124\n",
       "4    ACN  31.904533          2250100.0        261.824371"
      ]
     },
     "execution_count": 36,
     "metadata": {},
     "output_type": "execute_result"
    }
   ],
   "source": [
    "df.head()"
   ]
  },
  {
   "cell_type": "code",
   "execution_count": 37,
   "metadata": {},
   "outputs": [
    {
     "data": {
      "text/html": [
       "<div>\n",
       "<style scoped>\n",
       "    .dataframe tbody tr th:only-of-type {\n",
       "        vertical-align: middle;\n",
       "    }\n",
       "\n",
       "    .dataframe tbody tr th {\n",
       "        vertical-align: top;\n",
       "    }\n",
       "\n",
       "    .dataframe thead th {\n",
       "        text-align: right;\n",
       "    }\n",
       "</style>\n",
       "<table border=\"1\" class=\"dataframe\">\n",
       "  <thead>\n",
       "    <tr style=\"text-align: right;\">\n",
       "      <th></th>\n",
       "      <th>Symbol</th>\n",
       "      <th>Security</th>\n",
       "      <th>GICS Sector</th>\n",
       "      <th>GICS Sub-Industry</th>\n",
       "    </tr>\n",
       "  </thead>\n",
       "  <tbody>\n",
       "    <tr>\n",
       "      <th>0</th>\n",
       "      <td>MMM</td>\n",
       "      <td>3M</td>\n",
       "      <td>Industrials</td>\n",
       "      <td>Industrial Conglomerates</td>\n",
       "    </tr>\n",
       "    <tr>\n",
       "      <th>1</th>\n",
       "      <td>AOS</td>\n",
       "      <td>A. O. Smith</td>\n",
       "      <td>Industrials</td>\n",
       "      <td>Building Products</td>\n",
       "    </tr>\n",
       "    <tr>\n",
       "      <th>2</th>\n",
       "      <td>ABT</td>\n",
       "      <td>Abbott</td>\n",
       "      <td>Health Care</td>\n",
       "      <td>Health Care Equipment</td>\n",
       "    </tr>\n",
       "    <tr>\n",
       "      <th>3</th>\n",
       "      <td>ABBV</td>\n",
       "      <td>AbbVie</td>\n",
       "      <td>Health Care</td>\n",
       "      <td>Biotechnology</td>\n",
       "    </tr>\n",
       "    <tr>\n",
       "      <th>4</th>\n",
       "      <td>ACN</td>\n",
       "      <td>Accenture</td>\n",
       "      <td>Information Technology</td>\n",
       "      <td>IT Consulting &amp; Other Services</td>\n",
       "    </tr>\n",
       "  </tbody>\n",
       "</table>\n",
       "</div>"
      ],
      "text/plain": [
       "  Symbol     Security             GICS Sector               GICS Sub-Industry\n",
       "0    MMM           3M             Industrials        Industrial Conglomerates\n",
       "1    AOS  A. O. Smith             Industrials               Building Products\n",
       "2    ABT       Abbott             Health Care           Health Care Equipment\n",
       "3   ABBV       AbbVie             Health Care                   Biotechnology\n",
       "4    ACN    Accenture  Information Technology  IT Consulting & Other Services"
      ]
     },
     "execution_count": 37,
     "metadata": {},
     "output_type": "execute_result"
    }
   ],
   "source": [
    "sp500_df.head()"
   ]
  },
  {
   "cell_type": "code",
   "execution_count": 38,
   "metadata": {},
   "outputs": [],
   "source": [
    "df_final = pd.merge(df, sp500_df, 'inner', 'Symbol')"
   ]
  },
  {
   "cell_type": "code",
   "execution_count": 39,
   "metadata": {},
   "outputs": [
    {
     "data": {
      "text/html": [
       "<div>\n",
       "<style scoped>\n",
       "    .dataframe tbody tr th:only-of-type {\n",
       "        vertical-align: middle;\n",
       "    }\n",
       "\n",
       "    .dataframe tbody tr th {\n",
       "        vertical-align: top;\n",
       "    }\n",
       "\n",
       "    .dataframe thead th {\n",
       "        text-align: right;\n",
       "    }\n",
       "</style>\n",
       "<table border=\"1\" class=\"dataframe\">\n",
       "  <thead>\n",
       "    <tr style=\"text-align: right;\">\n",
       "      <th></th>\n",
       "      <th>Symbol</th>\n",
       "      <th>Return</th>\n",
       "      <th>Volume_2023_Start</th>\n",
       "      <th>Price_2023_Start</th>\n",
       "      <th>Security</th>\n",
       "      <th>GICS Sector</th>\n",
       "      <th>GICS Sub-Industry</th>\n",
       "    </tr>\n",
       "  </thead>\n",
       "  <tbody>\n",
       "    <tr>\n",
       "      <th>0</th>\n",
       "      <td>MMM</td>\n",
       "      <td>-5.340932</td>\n",
       "      <td>3124909.0</td>\n",
       "      <td>92.868958</td>\n",
       "      <td>3M</td>\n",
       "      <td>Industrials</td>\n",
       "      <td>Industrial Conglomerates</td>\n",
       "    </tr>\n",
       "    <tr>\n",
       "      <th>1</th>\n",
       "      <td>AOS</td>\n",
       "      <td>42.495103</td>\n",
       "      <td>1366200.0</td>\n",
       "      <td>56.647530</td>\n",
       "      <td>A. O. Smith</td>\n",
       "      <td>Industrials</td>\n",
       "      <td>Building Products</td>\n",
       "    </tr>\n",
       "    <tr>\n",
       "      <th>2</th>\n",
       "      <td>ABT</td>\n",
       "      <td>2.456596</td>\n",
       "      <td>4171900.0</td>\n",
       "      <td>104.779053</td>\n",
       "      <td>Abbott</td>\n",
       "      <td>Health Care</td>\n",
       "      <td>Health Care Equipment</td>\n",
       "    </tr>\n",
       "    <tr>\n",
       "      <th>3</th>\n",
       "      <td>ABBV</td>\n",
       "      <td>-0.707935</td>\n",
       "      <td>4937500.0</td>\n",
       "      <td>149.164124</td>\n",
       "      <td>AbbVie</td>\n",
       "      <td>Health Care</td>\n",
       "      <td>Biotechnology</td>\n",
       "    </tr>\n",
       "    <tr>\n",
       "      <th>4</th>\n",
       "      <td>ACN</td>\n",
       "      <td>31.904533</td>\n",
       "      <td>2250100.0</td>\n",
       "      <td>261.824371</td>\n",
       "      <td>Accenture</td>\n",
       "      <td>Information Technology</td>\n",
       "      <td>IT Consulting &amp; Other Services</td>\n",
       "    </tr>\n",
       "  </tbody>\n",
       "</table>\n",
       "</div>"
      ],
      "text/plain": [
       "  Symbol     Return  Volume_2023_Start  Price_2023_Start     Security  \\\n",
       "0    MMM  -5.340932          3124909.0         92.868958           3M   \n",
       "1    AOS  42.495103          1366200.0         56.647530  A. O. Smith   \n",
       "2    ABT   2.456596          4171900.0        104.779053       Abbott   \n",
       "3   ABBV  -0.707935          4937500.0        149.164124       AbbVie   \n",
       "4    ACN  31.904533          2250100.0        261.824371    Accenture   \n",
       "\n",
       "              GICS Sector               GICS Sub-Industry  \n",
       "0             Industrials        Industrial Conglomerates  \n",
       "1             Industrials               Building Products  \n",
       "2             Health Care           Health Care Equipment  \n",
       "3             Health Care                   Biotechnology  \n",
       "4  Information Technology  IT Consulting & Other Services  "
      ]
     },
     "execution_count": 39,
     "metadata": {},
     "output_type": "execute_result"
    }
   ],
   "source": [
    "df_final.head()"
   ]
  },
  {
   "cell_type": "code",
   "execution_count": 40,
   "metadata": {},
   "outputs": [
    {
     "data": {
      "text/plain": [
       "(494, 7)"
      ]
     },
     "execution_count": 40,
     "metadata": {},
     "output_type": "execute_result"
    }
   ],
   "source": [
    "df_final.shape"
   ]
  },
  {
   "cell_type": "markdown",
   "metadata": {},
   "source": [
    "#### We group the companies by sector and calculate the sector-wise mean return"
   ]
  },
  {
   "cell_type": "code",
   "execution_count": 41,
   "metadata": {},
   "outputs": [],
   "source": [
    "sector_returns = df_final.groupby('GICS Sector')['Return'].mean()"
   ]
  },
  {
   "cell_type": "code",
   "execution_count": 42,
   "metadata": {},
   "outputs": [
    {
     "data": {
      "image/png": "[encoded data removed]",
      "text/plain": [
       "<Figure size 1000x600 with 1 Axes>"
      ]
     },
     "metadata": {},
     "output_type": "display_data"
    }
   ],
   "source": [
    "plt.figure(figsize=(10, 6))\n",
    "sns.barplot(sector_returns)\n",
    "plt.xticks(rotation=60)\n",
    "plt.show()"
   ]
  },
  {
   "cell_type": "markdown",
   "metadata": {},
   "source": [
    "#### We group the companies by market capitalization"
   ]
  },
  {
   "cell_type": "code",
   "execution_count": 43,
   "metadata": {},
   "outputs": [
    {
     "data": {
      "text/html": [
       "<div>\n",
       "<style scoped>\n",
       "    .dataframe tbody tr th:only-of-type {\n",
       "        vertical-align: middle;\n",
       "    }\n",
       "\n",
       "    .dataframe tbody tr th {\n",
       "        vertical-align: top;\n",
       "    }\n",
       "\n",
       "    .dataframe thead th {\n",
       "        text-align: right;\n",
       "    }\n",
       "</style>\n",
       "<table border=\"1\" class=\"dataframe\">\n",
       "  <thead>\n",
       "    <tr style=\"text-align: right;\">\n",
       "      <th></th>\n",
       "      <th>Symbol</th>\n",
       "      <th>Return</th>\n",
       "      <th>Volume_2023_Start</th>\n",
       "      <th>Price_2023_Start</th>\n",
       "      <th>Security</th>\n",
       "      <th>GICS Sector</th>\n",
       "      <th>GICS Sub-Industry</th>\n",
       "      <th>Market_Cap</th>\n",
       "    </tr>\n",
       "  </thead>\n",
       "  <tbody>\n",
       "    <tr>\n",
       "      <th>0</th>\n",
       "      <td>MMM</td>\n",
       "      <td>-5.340932</td>\n",
       "      <td>3124909.0</td>\n",
       "      <td>92.868958</td>\n",
       "      <td>3M</td>\n",
       "      <td>Industrials</td>\n",
       "      <td>Industrial Conglomerates</td>\n",
       "      <td>0.290207</td>\n",
       "    </tr>\n",
       "    <tr>\n",
       "      <th>1</th>\n",
       "      <td>AOS</td>\n",
       "      <td>42.495103</td>\n",
       "      <td>1366200.0</td>\n",
       "      <td>56.647530</td>\n",
       "      <td>A. O. Smith</td>\n",
       "      <td>Industrials</td>\n",
       "      <td>Building Products</td>\n",
       "      <td>0.077392</td>\n",
       "    </tr>\n",
       "    <tr>\n",
       "      <th>2</th>\n",
       "      <td>ABT</td>\n",
       "      <td>2.456596</td>\n",
       "      <td>4171900.0</td>\n",
       "      <td>104.779053</td>\n",
       "      <td>Abbott</td>\n",
       "      <td>Health Care</td>\n",
       "      <td>Health Care Equipment</td>\n",
       "      <td>0.437128</td>\n",
       "    </tr>\n",
       "    <tr>\n",
       "      <th>3</th>\n",
       "      <td>ABBV</td>\n",
       "      <td>-0.707935</td>\n",
       "      <td>4937500.0</td>\n",
       "      <td>149.164124</td>\n",
       "      <td>AbbVie</td>\n",
       "      <td>Health Care</td>\n",
       "      <td>Biotechnology</td>\n",
       "      <td>0.736498</td>\n",
       "    </tr>\n",
       "    <tr>\n",
       "      <th>4</th>\n",
       "      <td>ACN</td>\n",
       "      <td>31.904533</td>\n",
       "      <td>2250100.0</td>\n",
       "      <td>261.824371</td>\n",
       "      <td>Accenture</td>\n",
       "      <td>Information Technology</td>\n",
       "      <td>IT Consulting &amp; Other Services</td>\n",
       "      <td>0.589131</td>\n",
       "    </tr>\n",
       "  </tbody>\n",
       "</table>\n",
       "</div>"
      ],
      "text/plain": [
       "  Symbol     Return  Volume_2023_Start  Price_2023_Start     Security  \\\n",
       "0    MMM  -5.340932          3124909.0         92.868958           3M   \n",
       "1    AOS  42.495103          1366200.0         56.647530  A. O. Smith   \n",
       "2    ABT   2.456596          4171900.0        104.779053       Abbott   \n",
       "3   ABBV  -0.707935          4937500.0        149.164124       AbbVie   \n",
       "4    ACN  31.904533          2250100.0        261.824371    Accenture   \n",
       "\n",
       "              GICS Sector               GICS Sub-Industry  Market_Cap  \n",
       "0             Industrials        Industrial Conglomerates    0.290207  \n",
       "1             Industrials               Building Products    0.077392  \n",
       "2             Health Care           Health Care Equipment    0.437128  \n",
       "3             Health Care                   Biotechnology    0.736498  \n",
       "4  Information Technology  IT Consulting & Other Services    0.589131  "
      ]
     },
     "execution_count": 43,
     "metadata": {},
     "output_type": "execute_result"
    }
   ],
   "source": [
    "df_final['Market_Cap'] = df['Price_2023_Start'] * df['Volume_2023_Start'] / 1_000_000_000\n",
    "df_final.head()"
   ]
  },
  {
   "cell_type": "code",
   "execution_count": 44,
   "metadata": {},
   "outputs": [],
   "source": [
    "def get_market_cap_category(market_cap):\n",
    "    if market_cap > 1:\n",
    "        return \"large cap\"\n",
    "    elif market_cap > 0.5:\n",
    "        return \"mid cap\"\n",
    "    else:\n",
    "        return \"small cap\"\n",
    "df_final['Market_Cap_Category'] = df_final.apply(lambda x: get_market_cap_category(x['Market_Cap']), axis=1)"
   ]
  },
  {
   "cell_type": "code",
   "execution_count": 45,
   "metadata": {},
   "outputs": [
    {
     "data": {
      "text/html": [
       "<div>\n",
       "<style scoped>\n",
       "    .dataframe tbody tr th:only-of-type {\n",
       "        vertical-align: middle;\n",
       "    }\n",
       "\n",
       "    .dataframe tbody tr th {\n",
       "        vertical-align: top;\n",
       "    }\n",
       "\n",
       "    .dataframe thead th {\n",
       "        text-align: right;\n",
       "    }\n",
       "</style>\n",
       "<table border=\"1\" class=\"dataframe\">\n",
       "  <thead>\n",
       "    <tr style=\"text-align: right;\">\n",
       "      <th></th>\n",
       "      <th>Symbol</th>\n",
       "      <th>Return</th>\n",
       "      <th>Volume_2023_Start</th>\n",
       "      <th>Price_2023_Start</th>\n",
       "      <th>Security</th>\n",
       "      <th>GICS Sector</th>\n",
       "      <th>GICS Sub-Industry</th>\n",
       "      <th>Market_Cap</th>\n",
       "      <th>Market_Cap_Category</th>\n",
       "    </tr>\n",
       "  </thead>\n",
       "  <tbody>\n",
       "    <tr>\n",
       "      <th>0</th>\n",
       "      <td>MMM</td>\n",
       "      <td>-5.340932</td>\n",
       "      <td>3124909.0</td>\n",
       "      <td>92.868958</td>\n",
       "      <td>3M</td>\n",
       "      <td>Industrials</td>\n",
       "      <td>Industrial Conglomerates</td>\n",
       "      <td>0.290207</td>\n",
       "      <td>small cap</td>\n",
       "    </tr>\n",
       "    <tr>\n",
       "      <th>1</th>\n",
       "      <td>AOS</td>\n",
       "      <td>42.495103</td>\n",
       "      <td>1366200.0</td>\n",
       "      <td>56.647530</td>\n",
       "      <td>A. O. Smith</td>\n",
       "      <td>Industrials</td>\n",
       "      <td>Building Products</td>\n",
       "      <td>0.077392</td>\n",
       "      <td>small cap</td>\n",
       "    </tr>\n",
       "    <tr>\n",
       "      <th>2</th>\n",
       "      <td>ABT</td>\n",
       "      <td>2.456596</td>\n",
       "      <td>4171900.0</td>\n",
       "      <td>104.779053</td>\n",
       "      <td>Abbott</td>\n",
       "      <td>Health Care</td>\n",
       "      <td>Health Care Equipment</td>\n",
       "      <td>0.437128</td>\n",
       "      <td>small cap</td>\n",
       "    </tr>\n",
       "    <tr>\n",
       "      <th>3</th>\n",
       "      <td>ABBV</td>\n",
       "      <td>-0.707935</td>\n",
       "      <td>4937500.0</td>\n",
       "      <td>149.164124</td>\n",
       "      <td>AbbVie</td>\n",
       "      <td>Health Care</td>\n",
       "      <td>Biotechnology</td>\n",
       "      <td>0.736498</td>\n",
       "      <td>mid cap</td>\n",
       "    </tr>\n",
       "    <tr>\n",
       "      <th>4</th>\n",
       "      <td>ACN</td>\n",
       "      <td>31.904533</td>\n",
       "      <td>2250100.0</td>\n",
       "      <td>261.824371</td>\n",
       "      <td>Accenture</td>\n",
       "      <td>Information Technology</td>\n",
       "      <td>IT Consulting &amp; Other Services</td>\n",
       "      <td>0.589131</td>\n",
       "      <td>mid cap</td>\n",
       "    </tr>\n",
       "  </tbody>\n",
       "</table>\n",
       "</div>"
      ],
      "text/plain": [
       "  Symbol     Return  Volume_2023_Start  Price_2023_Start     Security  \\\n",
       "0    MMM  -5.340932          3124909.0         92.868958           3M   \n",
       "1    AOS  42.495103          1366200.0         56.647530  A. O. Smith   \n",
       "2    ABT   2.456596          4171900.0        104.779053       Abbott   \n",
       "3   ABBV  -0.707935          4937500.0        149.164124       AbbVie   \n",
       "4    ACN  31.904533          2250100.0        261.824371    Accenture   \n",
       "\n",
       "              GICS Sector               GICS Sub-Industry  Market_Cap  \\\n",
       "0             Industrials        Industrial Conglomerates    0.290207   \n",
       "1             Industrials               Building Products    0.077392   \n",
       "2             Health Care           Health Care Equipment    0.437128   \n",
       "3             Health Care                   Biotechnology    0.736498   \n",
       "4  Information Technology  IT Consulting & Other Services    0.589131   \n",
       "\n",
       "  Market_Cap_Category  \n",
       "0           small cap  \n",
       "1           small cap  \n",
       "2           small cap  \n",
       "3             mid cap  \n",
       "4             mid cap  "
      ]
     },
     "execution_count": 45,
     "metadata": {},
     "output_type": "execute_result"
    }
   ],
   "source": [
    "df_final.head()"
   ]
  },
  {
   "cell_type": "code",
   "execution_count": 46,
   "metadata": {},
   "outputs": [
    {
     "data": {
      "text/html": [
       "<div>\n",
       "<style scoped>\n",
       "    .dataframe tbody tr th:only-of-type {\n",
       "        vertical-align: middle;\n",
       "    }\n",
       "\n",
       "    .dataframe tbody tr th {\n",
       "        vertical-align: top;\n",
       "    }\n",
       "\n",
       "    .dataframe thead th {\n",
       "        text-align: right;\n",
       "    }\n",
       "</style>\n",
       "<table border=\"1\" class=\"dataframe\">\n",
       "  <thead>\n",
       "    <tr style=\"text-align: right;\">\n",
       "      <th></th>\n",
       "      <th>Market_Cap_Category</th>\n",
       "      <th>Return</th>\n",
       "    </tr>\n",
       "  </thead>\n",
       "  <tbody>\n",
       "    <tr>\n",
       "      <th>0</th>\n",
       "      <td>large cap</td>\n",
       "      <td>52.529254</td>\n",
       "    </tr>\n",
       "    <tr>\n",
       "      <th>1</th>\n",
       "      <td>mid cap</td>\n",
       "      <td>21.207606</td>\n",
       "    </tr>\n",
       "    <tr>\n",
       "      <th>2</th>\n",
       "      <td>small cap</td>\n",
       "      <td>15.522519</td>\n",
       "    </tr>\n",
       "  </tbody>\n",
       "</table>\n",
       "</div>"
      ],
      "text/plain": [
       "  Market_Cap_Category     Return\n",
       "0           large cap  52.529254\n",
       "1             mid cap  21.207606\n",
       "2           small cap  15.522519"
      ]
     },
     "execution_count": 46,
     "metadata": {},
     "output_type": "execute_result"
    }
   ],
   "source": [
    "size_returns = df_final.groupby('Market_Cap_Category')['Return'].mean().reset_index()\n",
    "size_returns"
   ]
  },
  {
   "cell_type": "code",
   "execution_count": 47,
   "metadata": {},
   "outputs": [
    {
     "data": {
      "text/plain": [
       "<Axes: xlabel='Market_Cap_Category', ylabel='Return'>"
      ]
     },
     "execution_count": 47,
     "metadata": {},
     "output_type": "execute_result"
    },
    {
     "data": {
      "image/png": "[encoded data removed]",
      "text/plain": [
       "<Figure size 800x500 with 1 Axes>"
      ]
     },
     "metadata": {},
     "output_type": "display_data"
    }
   ],
   "source": [
    "plt.figure(figsize=(8, 5))\n",
    "sns.barplot(data=size_returns, x='Market_Cap_Category', y='Return', order=[\"small cap\", \"mid cap\", \"large cap\"])"
   ]
  },
  {
   "cell_type": "code",
   "execution_count": 48,
   "metadata": {},
   "outputs": [
    {
     "data": {
      "text/plain": [
       "array(['Industrials', 'Health Care', 'Information Technology',\n",
       "       'Utilities', 'Financials', 'Materials', 'Consumer Discretionary',\n",
       "       'Real Estate', 'Communication Services', 'Consumer Staples',\n",
       "       'Energy'], dtype=object)"
      ]
     },
     "execution_count": 48,
     "metadata": {},
     "output_type": "execute_result"
    }
   ],
   "source": [
    "df_final['GICS Sector'].unique()"
   ]
  },
  {
   "cell_type": "code",
   "execution_count": null,
   "metadata": {},
   "outputs": [],
   "source": []
  }
 ],
 "metadata": {
  "kernelspec": {
   "display_name": "kaggle",
   "language": "python",
   "name": "python3"
  },
  "language_info": {
   "codemirror_mode": {
    "name": "ipython",
    "version": 3
   },
   "file_extension": ".py",
   "mimetype": "text/x-python",
   "name": "python",
   "nbconvert_exporter": "python",
   "pygments_lexer": "ipython3",
   "version": "3.12.8"
  }
 },
 "nbformat": 4,
 "nbformat_minor": 2
}
